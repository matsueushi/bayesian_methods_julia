{
 "cells": [
  {
   "cell_type": "markdown",
   "metadata": {},
   "source": [
    "# 6.4 例題: ベイズ多腕バンディット"
   ]
  },
  {
   "cell_type": "code",
   "execution_count": 22,
   "metadata": {},
   "outputs": [],
   "source": [
    "using Distributions"
   ]
  },
  {
   "cell_type": "code",
   "execution_count": 15,
   "metadata": {},
   "outputs": [
    {
     "data": {
      "text/plain": [
       "length (generic function with 1 method)"
      ]
     },
     "execution_count": 15,
     "metadata": {},
     "output_type": "execute_result"
    }
   ],
   "source": [
    "struct Bandits\n",
    "    p::Vector{Float64}\n",
    "end\n",
    "\n",
    "function pull(b::Bandits, i::T) where {T <: Integer}\n",
    "    rand() < b.p[i]\n",
    "end\n",
    "\n",
    "length(b::Bandits) = Base.length(b.p)"
   ]
  },
  {
   "cell_type": "code",
   "execution_count": 16,
   "metadata": {},
   "outputs": [
    {
     "data": {
      "text/plain": [
       "Bandits([0.4, 0.2])"
      ]
     },
     "execution_count": 16,
     "metadata": {},
     "output_type": "execute_result"
    }
   ],
   "source": [
    "x = Bandits([0.4, 0.2])"
   ]
  },
  {
   "cell_type": "code",
   "execution_count": 18,
   "metadata": {},
   "outputs": [
    {
     "data": {
      "text/plain": [
       "false"
      ]
     },
     "execution_count": 18,
     "metadata": {},
     "output_type": "execute_result"
    }
   ],
   "source": [
    "pull(x, 2)"
   ]
  },
  {
   "cell_type": "code",
   "execution_count": 17,
   "metadata": {},
   "outputs": [
    {
     "data": {
      "text/plain": [
       "2"
      ]
     },
     "execution_count": 17,
     "metadata": {},
     "output_type": "execute_result"
    }
   ],
   "source": [
    "length(x)"
   ]
  },
  {
   "cell_type": "code",
   "execution_count": 52,
   "metadata": {},
   "outputs": [
    {
     "data": {
      "text/plain": [
       "sample_bandits (generic function with 1 method)"
      ]
     },
     "execution_count": 52,
     "metadata": {},
     "output_type": "execute_result"
    }
   ],
   "source": [
    "mutable struct BayesianStrategy\n",
    "    bandits::Bandits\n",
    "    wins::Vector{Float64}\n",
    "    trials::Vector{Int64}\n",
    "    N::Int64\n",
    "    choices::Vector{Float64}\n",
    "    bb_score::Vector{Bool}\n",
    "end\n",
    "\n",
    "function BayesianStrategy(b::Bandits)\n",
    "    n_bandits = length(b)\n",
    "    BayesianStrategy(b, zeros(n_bandits), zeros(n_bandits), 0, [], [])\n",
    "end\n",
    "\n",
    "function sample_bandits(b::BayesianStrategy, n::Int64)\n",
    "    bb_score = zeros(n)\n",
    "    choices = zeros(n)\n",
    "    for k in 1:n\n",
    "        # バンディットの事前分布からサンプリングし、最も値の大きいサンプルを選択\n",
    "        choice = argmax(rand.(Beta.(1 .+ b.wins, 1 .+ b.trials - b.wins)))\n",
    "        \n",
    "        # 選択されたバンディットからサンプリング\n",
    "        result = pull(b.bandits, choice)\n",
    "        \n",
    "        b.wins[choice] += result\n",
    "        b.trials[choice] += 1\n",
    "        bb_score[k] = result\n",
    "        b.N += 1\n",
    "        choices[k] = choice\n",
    "    end\n",
    "    \n",
    "    b.bb_score = [b.bb_score..., bb_score...]\n",
    "    b.choices = [b.choices..., choices...]\n",
    "    b\n",
    "end"
   ]
  },
  {
   "cell_type": "code",
   "execution_count": 53,
   "metadata": {},
   "outputs": [
    {
     "data": {
      "text/plain": [
       "BayesianStrategy(Bandits([0.4, 0.2]), [0.0, 0.0], [0, 0], 0, Float64[], Bool[])"
      ]
     },
     "execution_count": 53,
     "metadata": {},
     "output_type": "execute_result"
    }
   ],
   "source": [
    "y = BayesianStrategy(x)"
   ]
  },
  {
   "cell_type": "code",
   "execution_count": 56,
   "metadata": {},
   "outputs": [
    {
     "data": {
      "text/plain": [
       "BayesianStrategy(Bandits([0.4, 0.2]), [3.0, 1.0], [3, 3], 6, [2.0, 1.0, 1.0, 2.0, 2.0, 1.0], Bool[false, true, true, true, false, true])"
      ]
     },
     "execution_count": 56,
     "metadata": {},
     "output_type": "execute_result"
    }
   ],
   "source": [
    "sample_bandits(y, 3)"
   ]
  },
  {
   "cell_type": "code",
   "execution_count": null,
   "metadata": {},
   "outputs": [],
   "source": []
  }
 ],
 "metadata": {
  "kernelspec": {
   "display_name": "Julia 1.1.0",
   "language": "julia",
   "name": "julia-1.1"
  },
  "language_info": {
   "file_extension": ".jl",
   "mimetype": "application/julia",
   "name": "julia",
   "version": "1.1.0"
  }
 },
 "nbformat": 4,
 "nbformat_minor": 2
}
